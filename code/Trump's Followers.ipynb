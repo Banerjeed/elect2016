{
 "cells": [
  {
   "cell_type": "code",
   "execution_count": 1,
   "metadata": {
    "collapsed": true
   },
   "outputs": [],
   "source": [
    "import os\n",
    "import sys\n",
    "import time\n",
    "\n",
    "import tweepy\n",
    "import pandas as pd\n",
    "import numpy as np"
   ]
  },
  {
   "cell_type": "code",
   "execution_count": 4,
   "metadata": {
    "collapsed": false
   },
   "outputs": [],
   "source": [
    "import yaml\n",
    "\n",
    "root_dir = \"../\"\n",
    "twitter_cred = yaml.load(open(root_dir + 'credentials/twitter.cred'))\n",
    "\n",
    "auth = tweepy.OAuthHandler(twitter_cred['consumer_token'], \n",
    "                           twitter_cred['consumer_secret'])\n",
    "auth.set_access_token(twitter_cred['access_token_key'], \n",
    "                      twitter_cred['access_token_secret'])\n",
    "\n",
    "api = tweepy.API(auth, wait_on_rate_limit=True, wait_on_rate_limit_notify=True)"
   ]
  },
  {
   "cell_type": "code",
   "execution_count": 7,
   "metadata": {
    "collapsed": false
   },
   "outputs": [
    {
     "name": "stdout",
     "output_type": "stream",
     "text": [
      "Rate limit reached. Sleeping for: 278\n",
      "User(description='', location='', _json={'description': '', 'location': '', 'name': 'Anastasija Paegle', 'entities': {'description': {'urls': []}, 'url': {'urls': [{'display_url': 'bom.com', 'expanded_url': 'http://bom.com', 'indices': [0, 23], 'url': 'https://t.co/To674sUte6'}]}}, 'live_following': False, 'profile_sidebar_border_color': 'C0DEED', 'profile_background_tile': False, 'is_translation_enabled': False, 'followers_count': 47, 'lang': 'en', 'id': 774297197894656001, 'id_str': '774297197894656001', 'screen_name': 'imsinglepringel', 'blocking': False, 'is_translator': False, 'friends_count': 135, 'profile_image_url_https': 'https://pbs.twimg.com/profile_images/774312598766546945/8h0_98eR_normal.jpg', 'follow_request_sent': False, 'geo_enabled': False, 'contributors_enabled': False, 'favourites_count': 12, 'profile_background_image_url': None, 'default_profile': True, 'status': {'place': None, 'in_reply_to_screen_name': None, 'in_reply_to_user_id': None, 'geo': None, 'lang': 'und', 'created_at': 'Fri Sep 09 18:11:45 +0000 2016', 'is_quote_status': False, 'entities': {'user_mentions': [], 'symbols': [], 'urls': [], 'hashtags': [{'text': 'thankyoujesus', 'indices': [0, 14]}]}, 'retweet_count': 0, 'retweeted': False, 'favorite_count': 1, 'id_str': '774309331848327169', 'source': '<a href=\"http://twitter.com/download/iphone\" rel=\"nofollow\">Twitter for iPhone</a>', 'contributors': None, 'favorited': False, 'id': 774309331848327169, 'in_reply_to_status_id': None, 'in_reply_to_status_id_str': None, 'in_reply_to_user_id_str': None, 'truncated': False, 'text': '#thankyoujesus', 'coordinates': None}, 'profile_background_image_url_https': None, 'following': False, 'utc_offset': None, 'profile_image_url': 'http://pbs.twimg.com/profile_images/774312598766546945/8h0_98eR_normal.jpg', 'listed_count': 0, 'has_extended_profile': False, 'profile_banner_url': 'https://pbs.twimg.com/profile_banners/774297197894656001/1473442250', 'profile_text_color': '333333', 'verified': False, 'profile_sidebar_fill_color': 'DDEEF6', 'profile_link_color': '2B7BB9', 'time_zone': None, 'profile_use_background_image': True, 'protected': False, 'muting': False, 'created_at': 'Fri Sep 09 17:23:32 +0000 2016', 'default_profile_image': False, 'blocked_by': False, 'notifications': False, 'url': 'https://t.co/To674sUte6', 'statuses_count': 1, 'profile_background_color': 'F5F8FA'}, name='Anastasija Paegle', created_at=datetime.datetime(2016, 9, 9, 17, 23, 32), entities={'description': {'urls': []}, 'url': {'urls': [{'display_url': 'bom.com', 'expanded_url': 'http://bom.com', 'indices': [0, 23], 'url': 'https://t.co/To674sUte6'}]}}, live_following=False, profile_sidebar_border_color='C0DEED', profile_background_tile=False, is_translation_enabled=False, followers_count=47, lang='en', id=774297197894656001, listed_count=0, id_str='774297197894656001', screen_name='imsinglepringel', is_translator=False, friends_count=135, profile_image_url_https='https://pbs.twimg.com/profile_images/774312598766546945/8h0_98eR_normal.jpg', _api=<tweepy.api.API object at 0x7f04005eec88>, follow_request_sent=False, notifications=False, contributors_enabled=False, favourites_count=12, profile_background_image_url=None, default_profile=True, status=Status(place=None, in_reply_to_screen_name=None, in_reply_to_user_id=None, geo=None, lang='und', _api=<tweepy.api.API object at 0x7f04005eec88>, created_at=datetime.datetime(2016, 9, 9, 18, 11, 45), is_quote_status=False, entities={'user_mentions': [], 'symbols': [], 'urls': [], 'hashtags': [{'text': 'thankyoujesus', 'indices': [0, 14]}]}, retweet_count=0, retweeted=False, favorite_count=1, id_str='774309331848327169', source='Twitter for iPhone', contributors=None, favorited=False, id=774309331848327169, coordinates=None, in_reply_to_status_id=None, in_reply_to_status_id_str=None, in_reply_to_user_id_str=None, source_url='http://twitter.com/download/iphone', truncated=False, text='#thankyoujesus', _json={'place': None, 'in_reply_to_screen_name': None, 'in_reply_to_user_id': None, 'geo': None, 'lang': 'und', 'created_at': 'Fri Sep 09 18:11:45 +0000 2016', 'is_quote_status': False, 'entities': {'user_mentions': [], 'symbols': [], 'urls': [], 'hashtags': [{'text': 'thankyoujesus', 'indices': [0, 14]}]}, 'retweet_count': 0, 'retweeted': False, 'favorite_count': 1, 'id_str': '774309331848327169', 'source': '<a href=\"http://twitter.com/download/iphone\" rel=\"nofollow\">Twitter for iPhone</a>', 'contributors': None, 'favorited': False, 'id': 774309331848327169, 'in_reply_to_status_id': None, 'in_reply_to_status_id_str': None, 'in_reply_to_user_id_str': None, 'truncated': False, 'text': '#thankyoujesus', 'coordinates': None}), profile_background_image_url_https=None, following=False, utc_offset=None, profile_image_url='http://pbs.twimg.com/profile_images/774312598766546945/8h0_98eR_normal.jpg', blocking=False, has_extended_profile=False, profile_banner_url='https://pbs.twimg.com/profile_banners/774297197894656001/1473442250', profile_text_color='333333', verified=False, profile_sidebar_fill_color='DDEEF6', profile_link_color='2B7BB9', time_zone=None, profile_use_background_image=True, protected=False, muting=False, default_profile_image=False, blocked_by=False, geo_enabled=False, url='https://t.co/To674sUte6', statuses_count=1, profile_background_color='F5F8FA')\n"
     ]
    }
   ],
   "source": [
    "with open(root_dir + \"data/trumps_followers.txt\", 'a') as f:\n",
    "    for page in tweepy.Cursor(api.followers, screen_name=\"realDonaldTrump\").pages():\n",
    "        print(page[0])\n",
    "        break"
   ]
  },
  {
   "cell_type": "code",
   "execution_count": 9,
   "metadata": {
    "collapsed": false
   },
   "outputs": [
    {
     "data": {
      "text/plain": [
       "dict"
      ]
     },
     "execution_count": 9,
     "metadata": {},
     "output_type": "execute_result"
    }
   ],
   "source": [
    "type(page[0]._json)"
   ]
  },
  {
   "cell_type": "code",
   "execution_count": 12,
   "metadata": {
    "collapsed": false
   },
   "outputs": [
    {
     "ename": "ImportError",
     "evalue": "No module named 'sql'",
     "output_type": "error",
     "traceback": [
      "\u001b[1;31m---------------------------------------------------------------------------\u001b[0m",
      "\u001b[1;31mImportError\u001b[0m                               Traceback (most recent call last)",
      "\u001b[1;32m<ipython-input-12-0f1b1693ec93>\u001b[0m in \u001b[0;36m<module>\u001b[1;34m()\u001b[0m\n\u001b[1;32m----> 1\u001b[1;33m \u001b[1;32mimport\u001b[0m \u001b[0msql\u001b[0m\u001b[1;33m\u001b[0m\u001b[0m\n\u001b[0m",
      "\u001b[1;31mImportError\u001b[0m: No module named 'sql'"
     ]
    }
   ],
   "source": [
    "import sqlite3\n",
    "conn"
   ]
  },
  {
   "cell_type": "code",
   "execution_count": null,
   "metadata": {
    "collapsed": true
   },
   "outputs": [],
   "source": []
  }
 ],
 "metadata": {
  "kernelspec": {
   "display_name": "Python 3",
   "language": "python",
   "name": "python3"
  },
  "language_info": {
   "codemirror_mode": {
    "name": "ipython",
    "version": 3
   },
   "file_extension": ".py",
   "mimetype": "text/x-python",
   "name": "python",
   "nbconvert_exporter": "python",
   "pygments_lexer": "ipython3",
   "version": "3.4.4"
  }
 },
 "nbformat": 4,
 "nbformat_minor": 0
}
