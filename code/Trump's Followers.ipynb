{
 "cells": [
  {
   "cell_type": "code",
   "execution_count": 1,
   "metadata": {
    "collapsed": true
   },
   "outputs": [],
   "source": [
    "import os\n",
    "import sys\n",
    "import time\n",
    "import datetime\n",
    "import sqlite3\n",
    "\n",
    "import tweepy\n",
    "import pandas as pd\n",
    "import numpy as np\n",
    "import yaml"
   ]
  },
  {
   "cell_type": "code",
   "execution_count": 2,
   "metadata": {
    "collapsed": false
   },
   "outputs": [],
   "source": [
    "root_dir = \"../\"\n",
    "twitter_cred = yaml.load(open(root_dir + 'credentials/twitter.cred'))\n",
    "\n",
    "auth = tweepy.OAuthHandler(twitter_cred['consumer_token'], \n",
    "                           twitter_cred['consumer_secret'])\n",
    "auth.set_access_token(twitter_cred['access_token_key'], \n",
    "                      twitter_cred['access_token_secret'])\n",
    "\n",
    "api = tweepy.API(auth)"
   ]
  },
  {
   "cell_type": "code",
   "execution_count": 4,
   "metadata": {
    "collapsed": true
   },
   "outputs": [],
   "source": [
    "con = sqlite3.connect(\"../data/trumps_followers.db\")"
   ]
  },
  {
   "cell_type": "code",
   "execution_count": 5,
   "metadata": {
    "collapsed": false
   },
   "outputs": [],
   "source": [
    "cursor = con.execute(\"SELECT * FROM trumpsFollowers\")"
   ]
  },
  {
   "cell_type": "code",
   "execution_count": 5,
   "metadata": {
    "collapsed": false
   },
   "outputs": [
    {
     "data": {
      "text/plain": [
       "<sqlite3.Cursor at 0x111c01ce0>"
      ]
     },
     "execution_count": 5,
     "metadata": {},
     "output_type": "execute_result"
    }
   ],
   "source": [
    "con.execute(\"\"\"CREATE TABLE IF NOT EXISTS trumpsFollowers(id INTEGER PRIMARY KEY, screen_name, \n",
    "                                                          created_at, name, lang, friends_count, \n",
    "                                                          followers_count, statuses_count, favorites_count, \n",
    "                                                          profile_image_url, verified)\"\"\")"
   ]
  },
  {
   "cell_type": "code",
   "execution_count": null,
   "metadata": {
    "collapsed": false
   },
   "outputs": [
    {
     "name": "stdout",
     "output_type": "stream",
     "text": [
      "Hit rate limit after 0 users.\n",
      "Writing new users and then waiting 15 minutes before getting more users.\n",
      "Hit rate limit after 300 users.\n",
      "Writing new users and then waiting 15 minutes before getting more users.\n"
     ]
    }
   ],
   "source": [
    "def get_list(follower):\n",
    "    created_at = datetime.datetime.strptime(follower._json['created_at'], \n",
    "                                            '%a %b %d %H:%M:%S %z %Y')\n",
    "    created_at_str = created_at.strftime('%Y-%m-%d %H:%M:%S')\n",
    "    return (follower._json['id'], follower._json['screen_name'], \n",
    "            created_at_str, follower._json['name'],\n",
    "            follower._json['lang'], follower._json['friends_count'], \n",
    "            follower._json['followers_count'], follower._json['statuses_count'], \n",
    "            follower._json['favourites_count'], \n",
    "            follower._json['profile_image_url'], follower._json['verified'])\n",
    "\n",
    "# https://dev.twitter.com/rest/reference/get/followers/list\n",
    "# At this time, results are ordered with the most recent following first — however, \n",
    "# this ordering is subject to unannounced change and eventual consistency issues.\n",
    "users = tweepy.Cursor(api.followers, screen_name=\"realDonaldTrump\").items()\n",
    "\n",
    "users_list = []\n",
    "while True:\n",
    "    try:\n",
    "        follower = next(users)\n",
    "        users_list.append(get_list(follower))\n",
    "    except (tweepy.TweepError):\n",
    "        print(\"Hit rate limit after %i users.\" % len(users_list))\n",
    "        con.executemany(\"\"\"INSERT OR REPLACE INTO trumpsFollowers(id, screen_name, \n",
    "                                                                  created_at, name, lang, \n",
    "                                                                  friends_count, followers_count, \n",
    "                                                                  statuses_count, favorites_count, \n",
    "                                                                  profile_image_url, verified) \n",
    "                            VALUES(?, ?, ?, ?, ?, ?, ?, ?, ?, ?, ?)\"\"\", users_list)\n",
    "        # Save changes to the database.\n",
    "        con.commit()\n",
    "        print(\"Writing new users and then waiting 15 minutes before getting more users.\")\n",
    "        time.sleep(900)\n",
    "        users_list = []\n",
    "        follower = next(users)\n",
    "        users_list.append(get_list(follower))\n",
    "    except StopIteration:\n",
    "        con.close()\n",
    "        break"
   ]
  },
  {
   "cell_type": "code",
   "execution_count": 39,
   "metadata": {
    "collapsed": false
   },
   "outputs": [
    {
     "ename": "OperationalError",
     "evalue": "cannot commit - no transaction is active",
     "output_type": "error",
     "traceback": [
      "\u001b[0;31m---------------------------------------------------------------------------\u001b[0m",
      "\u001b[0;31mOperationalError\u001b[0m                          Traceback (most recent call last)",
      "\u001b[0;32m<ipython-input-39-76006a1960bd>\u001b[0m in \u001b[0;36m<module>\u001b[0;34m()\u001b[0m\n\u001b[0;32m----> 1\u001b[0;31m \u001b[0mcursor\u001b[0m\u001b[0;34m.\u001b[0m\u001b[0mexecute\u001b[0m\u001b[0;34m(\u001b[0m\u001b[0;34m'COMMIT'\u001b[0m\u001b[0;34m)\u001b[0m\u001b[0;34m\u001b[0m\u001b[0m\n\u001b[0m",
      "\u001b[0;31mOperationalError\u001b[0m: cannot commit - no transaction is active"
     ]
    }
   ],
   "source": [
    "cursor.execute('COMMIT')"
   ]
  },
  {
   "cell_type": "code",
   "execution_count": null,
   "metadata": {
    "collapsed": true
   },
   "outputs": [],
   "source": []
  },
  {
   "cell_type": "code",
   "execution_count": 38,
   "metadata": {
    "collapsed": false
   },
   "outputs": [
    {
     "data": {
      "text/plain": [
       "[(498014799,\n",
       "  'paulamash',\n",
       "  '2012-02-20 16:09:18',\n",
       "  'paula mash',\n",
       "  'en',\n",
       "  104,\n",
       "  3,\n",
       "  5,\n",
       "  1,\n",
       "  'http://pbs.twimg.com/profile_images/631741808591159296/HolVkdCN_normal.jpg',\n",
       "  0),\n",
       " (774479314549170176,\n",
       "  'AlanSam94907874',\n",
       "  '2016-09-10 05:27:12',\n",
       "  'Alan Samuel',\n",
       "  'es',\n",
       "  88,\n",
       "  0,\n",
       "  0,\n",
       "  0,\n",
       "  'http://abs.twimg.com/sticky/default_profile_images/default_profile_2_normal.png',\n",
       "  0)]"
      ]
     },
     "execution_count": 38,
     "metadata": {},
     "output_type": "execute_result"
    }
   ],
   "source": [
    "cursor.fetchall()"
   ]
  }
 ],
 "metadata": {
  "kernelspec": {
   "display_name": "Python 3",
   "language": "python",
   "name": "python3"
  },
  "language_info": {
   "codemirror_mode": {
    "name": "ipython",
    "version": 3
   },
   "file_extension": ".py",
   "mimetype": "text/x-python",
   "name": "python",
   "nbconvert_exporter": "python",
   "pygments_lexer": "ipython3",
   "version": "3.5.2"
  }
 },
 "nbformat": 4,
 "nbformat_minor": 0
}
